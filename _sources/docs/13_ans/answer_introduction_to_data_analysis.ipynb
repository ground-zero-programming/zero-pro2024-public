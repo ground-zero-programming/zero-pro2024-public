{
 "cells": [
  {
   "cell_type": "markdown",
   "metadata": {},
   "source": [
    "# 第13回：データ分析入門（解答）\n",
    "\n",
    "担当：古居彬"
   ]
  },
  {
   "cell_type": "markdown",
   "metadata": {},
   "source": [
    "## 演習１\n",
    "\n",
    "本演習では，講義資料と同じく [アイスクリーム屋さんで学ぶ楽しい統計学](http://kogolab.chillout.jp/elearn/icecream/index.html) というサイトの架空のデータを用いる（ただしデータの種類は少し異なる）．\n",
    "\n",
    "まずは以下のセルを実行し，データをダウンロードしよう．\n",
    "ダウンロードしたデータは `data` フォルダ内に `ice_cream_kadai.csv` という名前で保存される．"
   ]
  },
  {
   "cell_type": "code",
   "execution_count": 1,
   "metadata": {},
   "outputs": [
    {
     "name": "stdout",
     "output_type": "stream",
     "text": [
      "mkdir: data: File exists\n",
      "zsh:1: command not found: wget\n"
     ]
    }
   ],
   "source": [
    "!mkdir data\n",
    "!wget -P data https://raw.githubusercontent.com/ground-zero-programming/zero-pro2022-public/main/docs/13/data/ice_cream_kadai.csv"
   ]
  },
  {
   "cell_type": "markdown",
   "metadata": {},
   "source": [
    "本ファイルには，アイスクリーム屋の店舗別の平均客数と，駅からの距離（単位は [m] ）のデータが入っている．\n",
    "\n",
    "```csv\n",
    "店舗, 駅からの距離, 平均客数\n",
    "1, 10, 795\n",
    "2, 1200, 213\n",
    "3, 500, 465\n",
    "...\n",
    "```\n",
    "\n",
    "このデータに対して，MatplotlibやPandasを用いて解析を行う．\n",
    "適宜，これら外部ライブラリをインポートしながら以下の演習課題に解答せよ．"
   ]
  },
  {
   "cell_type": "markdown",
   "metadata": {},
   "source": [
    "### 演習1-1\n",
    "\n",
    "上記ファイル `ice_cream_kadai.csv` を読み込み，PandasのDataFrameとして変数 `df` に格納せよ．また， `df` の中身を表示し，正しく読み込めていることを確認せよ．"
   ]
  },
  {
   "cell_type": "code",
   "execution_count": 2,
   "metadata": {},
   "outputs": [
    {
     "data": {
      "text/html": [
       "<div>\n",
       "<style scoped>\n",
       "    .dataframe tbody tr th:only-of-type {\n",
       "        vertical-align: middle;\n",
       "    }\n",
       "\n",
       "    .dataframe tbody tr th {\n",
       "        vertical-align: top;\n",
       "    }\n",
       "\n",
       "    .dataframe thead th {\n",
       "        text-align: right;\n",
       "    }\n",
       "</style>\n",
       "<table border=\"1\" class=\"dataframe\">\n",
       "  <thead>\n",
       "    <tr style=\"text-align: right;\">\n",
       "      <th></th>\n",
       "      <th>店舗</th>\n",
       "      <th>駅からの距離</th>\n",
       "      <th>平均客数</th>\n",
       "    </tr>\n",
       "  </thead>\n",
       "  <tbody>\n",
       "    <tr>\n",
       "      <th>0</th>\n",
       "      <td>1</td>\n",
       "      <td>10</td>\n",
       "      <td>795</td>\n",
       "    </tr>\n",
       "    <tr>\n",
       "      <th>1</th>\n",
       "      <td>2</td>\n",
       "      <td>1200</td>\n",
       "      <td>213</td>\n",
       "    </tr>\n",
       "    <tr>\n",
       "      <th>2</th>\n",
       "      <td>3</td>\n",
       "      <td>500</td>\n",
       "      <td>465</td>\n",
       "    </tr>\n",
       "    <tr>\n",
       "      <th>3</th>\n",
       "      <td>4</td>\n",
       "      <td>50</td>\n",
       "      <td>694</td>\n",
       "    </tr>\n",
       "    <tr>\n",
       "      <th>4</th>\n",
       "      <td>5</td>\n",
       "      <td>740</td>\n",
       "      <td>403</td>\n",
       "    </tr>\n",
       "    <tr>\n",
       "      <th>5</th>\n",
       "      <td>6</td>\n",
       "      <td>30</td>\n",
       "      <td>782</td>\n",
       "    </tr>\n",
       "    <tr>\n",
       "      <th>6</th>\n",
       "      <td>7</td>\n",
       "      <td>10</td>\n",
       "      <td>769</td>\n",
       "    </tr>\n",
       "    <tr>\n",
       "      <th>7</th>\n",
       "      <td>8</td>\n",
       "      <td>360</td>\n",
       "      <td>561</td>\n",
       "    </tr>\n",
       "    <tr>\n",
       "      <th>8</th>\n",
       "      <td>9</td>\n",
       "      <td>150</td>\n",
       "      <td>692</td>\n",
       "    </tr>\n",
       "    <tr>\n",
       "      <th>9</th>\n",
       "      <td>10</td>\n",
       "      <td>930</td>\n",
       "      <td>361</td>\n",
       "    </tr>\n",
       "    <tr>\n",
       "      <th>10</th>\n",
       "      <td>11</td>\n",
       "      <td>620</td>\n",
       "      <td>385</td>\n",
       "    </tr>\n",
       "    <tr>\n",
       "      <th>11</th>\n",
       "      <td>12</td>\n",
       "      <td>65</td>\n",
       "      <td>723</td>\n",
       "    </tr>\n",
       "  </tbody>\n",
       "</table>\n",
       "</div>"
      ],
      "text/plain": [
       "    店舗  駅からの距離  平均客数\n",
       "0    1      10   795\n",
       "1    2    1200   213\n",
       "2    3     500   465\n",
       "3    4      50   694\n",
       "4    5     740   403\n",
       "5    6      30   782\n",
       "6    7      10   769\n",
       "7    8     360   561\n",
       "8    9     150   692\n",
       "9   10     930   361\n",
       "10  11     620   385\n",
       "11  12      65   723"
      ]
     },
     "execution_count": 2,
     "metadata": {},
     "output_type": "execute_result"
    }
   ],
   "source": [
    "# 解答例\n",
    "import pandas as pd\n",
    "\n",
    "df = pd.read_csv('data/ice_cream_kadai.csv') \n",
    "\n",
    "df"
   ]
  },
  {
   "cell_type": "markdown",
   "metadata": {},
   "source": [
    "### 演習1-2\n",
    "\n",
    "`df` のうち，「駅からの距離」が `500` 以上の行だけを抽出して表示せよ．"
   ]
  },
  {
   "cell_type": "code",
   "execution_count": 3,
   "metadata": {},
   "outputs": [
    {
     "data": {
      "text/html": [
       "<div>\n",
       "<style scoped>\n",
       "    .dataframe tbody tr th:only-of-type {\n",
       "        vertical-align: middle;\n",
       "    }\n",
       "\n",
       "    .dataframe tbody tr th {\n",
       "        vertical-align: top;\n",
       "    }\n",
       "\n",
       "    .dataframe thead th {\n",
       "        text-align: right;\n",
       "    }\n",
       "</style>\n",
       "<table border=\"1\" class=\"dataframe\">\n",
       "  <thead>\n",
       "    <tr style=\"text-align: right;\">\n",
       "      <th></th>\n",
       "      <th>店舗</th>\n",
       "      <th>駅からの距離</th>\n",
       "      <th>平均客数</th>\n",
       "    </tr>\n",
       "  </thead>\n",
       "  <tbody>\n",
       "    <tr>\n",
       "      <th>1</th>\n",
       "      <td>2</td>\n",
       "      <td>1200</td>\n",
       "      <td>213</td>\n",
       "    </tr>\n",
       "    <tr>\n",
       "      <th>2</th>\n",
       "      <td>3</td>\n",
       "      <td>500</td>\n",
       "      <td>465</td>\n",
       "    </tr>\n",
       "    <tr>\n",
       "      <th>4</th>\n",
       "      <td>5</td>\n",
       "      <td>740</td>\n",
       "      <td>403</td>\n",
       "    </tr>\n",
       "    <tr>\n",
       "      <th>9</th>\n",
       "      <td>10</td>\n",
       "      <td>930</td>\n",
       "      <td>361</td>\n",
       "    </tr>\n",
       "    <tr>\n",
       "      <th>10</th>\n",
       "      <td>11</td>\n",
       "      <td>620</td>\n",
       "      <td>385</td>\n",
       "    </tr>\n",
       "  </tbody>\n",
       "</table>\n",
       "</div>"
      ],
      "text/plain": [
       "    店舗  駅からの距離  平均客数\n",
       "1    2    1200   213\n",
       "2    3     500   465\n",
       "4    5     740   403\n",
       "9   10     930   361\n",
       "10  11     620   385"
      ]
     },
     "execution_count": 3,
     "metadata": {},
     "output_type": "execute_result"
    }
   ],
   "source": [
    "# 解答例\n",
    "df[df['駅からの距離'] >= 500]"
   ]
  },
  {
   "cell_type": "markdown",
   "metadata": {},
   "source": [
    "### 演習1-3\n",
    "\n",
    "`df` のうち，「駅からの距離」が `500` 以上の行について，「平均客数」だけを抜き出して表示せよ．"
   ]
  },
  {
   "cell_type": "code",
   "execution_count": 4,
   "metadata": {},
   "outputs": [
    {
     "data": {
      "text/plain": [
       "1     213\n",
       "2     465\n",
       "4     403\n",
       "9     361\n",
       "10    385\n",
       "Name: 平均客数, dtype: int64"
      ]
     },
     "execution_count": 4,
     "metadata": {},
     "output_type": "execute_result"
    }
   ],
   "source": [
    "# 解答例\n",
    "df[df['駅からの距離'] >= 500]['平均客数']"
   ]
  },
  {
   "cell_type": "markdown",
   "metadata": {},
   "source": [
    "### 演習1-4\n",
    "\n",
    "`df` のうち，「平均客数」が `500` 未満の行について，「駅からの距離」の **最大値**，**最小値**，**平均値** をそれぞれ計算し，表示せよ．"
   ]
  },
  {
   "cell_type": "code",
   "execution_count": 5,
   "metadata": {},
   "outputs": [
    {
     "name": "stdout",
     "output_type": "stream",
     "text": [
      "最大値：1200\n",
      "最小値：500\n",
      "平均値：798.0\n"
     ]
    }
   ],
   "source": [
    "# 解答例\n",
    "print(f\"最大値：{df[df['平均客数'] < 500]['駅からの距離'].max()}\")\n",
    "print(f\"最小値：{df[df['平均客数'] < 500]['駅からの距離'].min()}\")\n",
    "print(f\"平均値：{df[df['平均客数'] < 500]['駅からの距離'].mean()}\")"
   ]
  },
  {
   "cell_type": "markdown",
   "metadata": {},
   "source": [
    "## 演習2\n",
    "\n",
    "`df` について，「駅からの距離」と「平均客数」の間の関係を散布図として出力せよ．\n",
    "ただし，図タイトル，x軸とy軸のタイトルを必ず付けること．\n",
    "それ以外に，グラフを見やすくする工夫を自分なりに考えて加えてよい．\n",
    "\n",
    "グラフ中で日本語フォントを利用するため，以下のセルをあらかじめ実行しておくこと．"
   ]
  },
  {
   "cell_type": "code",
   "execution_count": 6,
   "metadata": {},
   "outputs": [],
   "source": [
    "from matplotlib import rcParams\n",
    "rcParams['font.family'] = 'sans-serif'\n",
    "rcParams['font.sans-serif'] = ['Hiragino Sans', 'Yu Gothic', 'Meirio', 'Takao', 'IPAexGothic', 'IPAPGothic', 'VL PGothic', 'Noto Sans CJK JP']"
   ]
  },
  {
   "cell_type": "markdown",
   "metadata": {},
   "source": [
    "**出力例**\n",
    "\n",
    "![](./figs/kadai2_sample.png)"
   ]
  },
  {
   "cell_type": "code",
   "execution_count": 7,
   "metadata": {},
   "outputs": [
    {
     "data": {
      "image/png": "[encoded data removed]",
      "text/plain": [
       "<Figure size 432x288 with 1 Axes>"
      ]
     },
     "metadata": {
      "needs_background": "light"
     },
     "output_type": "display_data"
    }
   ],
   "source": [
    "# 解答例\n",
    "import matplotlib.pyplot as plt\n",
    "\n",
    "plt.scatter(df['駅からの距離'], df['平均客数'], s=50, alpha=0.7)\n",
    "plt.title('駅からの距離と平均客数の関係')\n",
    "plt.xlabel('駅からの距離（m）')\n",
    "plt.ylabel('平均客数（人）');"
   ]
  },
  {
   "cell_type": "markdown",
   "metadata": {},
   "source": [
    "## 演習３\n",
    "\n",
    "`df` について，「駅からの距離」と「平均客数」の間の相関係数を計算し，表示せよ．\n",
    "また，**説明** と書かれたMarkdownセルに，演習2の散布図と本演習で算出した相関係数の結果から，何が読み取れるか考えて自分なりに考察を書くこと．"
   ]
  },
  {
   "cell_type": "code",
   "execution_count": 8,
   "metadata": {},
   "outputs": [
    {
     "data": {
      "text/html": [
       "<div>\n",
       "<style scoped>\n",
       "    .dataframe tbody tr th:only-of-type {\n",
       "        vertical-align: middle;\n",
       "    }\n",
       "\n",
       "    .dataframe tbody tr th {\n",
       "        vertical-align: top;\n",
       "    }\n",
       "\n",
       "    .dataframe thead th {\n",
       "        text-align: right;\n",
       "    }\n",
       "</style>\n",
       "<table border=\"1\" class=\"dataframe\">\n",
       "  <thead>\n",
       "    <tr style=\"text-align: right;\">\n",
       "      <th></th>\n",
       "      <th>駅からの距離</th>\n",
       "      <th>平均客数</th>\n",
       "    </tr>\n",
       "  </thead>\n",
       "  <tbody>\n",
       "    <tr>\n",
       "      <th>駅からの距離</th>\n",
       "      <td>1.000000</td>\n",
       "      <td>-0.979522</td>\n",
       "    </tr>\n",
       "    <tr>\n",
       "      <th>平均客数</th>\n",
       "      <td>-0.979522</td>\n",
       "      <td>1.000000</td>\n",
       "    </tr>\n",
       "  </tbody>\n",
       "</table>\n",
       "</div>"
      ],
      "text/plain": [
       "          駅からの距離      平均客数\n",
       "駅からの距離  1.000000 -0.979522\n",
       "平均客数   -0.979522  1.000000"
      ]
     },
     "execution_count": 8,
     "metadata": {},
     "output_type": "execute_result"
    }
   ],
   "source": [
    "# 解答例\n",
    "df[['駅からの距離', '平均客数']].corr()"
   ]
  },
  {
   "cell_type": "markdown",
   "metadata": {},
   "source": [
    "**説明**\n",
    "\n",
    "…"
   ]
  },
  {
   "cell_type": "markdown",
   "metadata": {},
   "source": [
    "## 演習4：発展課題"
   ]
  },
  {
   "cell_type": "markdown",
   "metadata": {},
   "source": [
    "これ以降は発展的な演習課題となります． \n",
    "解くことは必須ではありませんが，ぜひチャレンジしてみてください．"
   ]
  },
  {
   "cell_type": "markdown",
   "metadata": {},
   "source": [
    "演習4では，気象庁のオープンデータから取得した東広島市の1979年〜2021年までの月別平均気温のデータを用いる．\n",
    "本データは，`higashi-hiroshima-temps.csv` という CSVファイルに保存されている．\n",
    "\n",
    "まずは以下のセルを実行し，当該ファイルをダウンロードして `data` フォルダに格納せよ．"
   ]
  },
  {
   "cell_type": "code",
   "execution_count": 9,
   "metadata": {},
   "outputs": [
    {
     "name": "stdout",
     "output_type": "stream",
     "text": [
      "mkdir: data: File exists\n",
      "zsh:1: command not found: wget\n"
     ]
    }
   ],
   "source": [
    "!mkdir data\n",
    "!wget -P data https://raw.githubusercontent.com/ground-zero-programming/zero-pro2022-public/main/docs/13/data/higashi-hiroshima-temps.csv"
   ]
  },
  {
   "cell_type": "markdown",
   "metadata": {},
   "source": [
    "次に，以下のセルを実行して `higashi-hiroshima-temps.csv` の内容を `df_temps` というDataFrameに格納せよ．"
   ]
  },
  {
   "cell_type": "code",
   "execution_count": 10,
   "metadata": {},
   "outputs": [
    {
     "data": {
      "text/html": [
       "<div>\n",
       "<style scoped>\n",
       "    .dataframe tbody tr th:only-of-type {\n",
       "        vertical-align: middle;\n",
       "    }\n",
       "\n",
       "    .dataframe tbody tr th {\n",
       "        vertical-align: top;\n",
       "    }\n",
       "\n",
       "    .dataframe thead th {\n",
       "        text-align: right;\n",
       "    }\n",
       "</style>\n",
       "<table border=\"1\" class=\"dataframe\">\n",
       "  <thead>\n",
       "    <tr style=\"text-align: right;\">\n",
       "      <th></th>\n",
       "      <th>年</th>\n",
       "      <th>月</th>\n",
       "      <th>平均気温</th>\n",
       "    </tr>\n",
       "  </thead>\n",
       "  <tbody>\n",
       "    <tr>\n",
       "      <th>0</th>\n",
       "      <td>1979</td>\n",
       "      <td>1</td>\n",
       "      <td>2.9</td>\n",
       "    </tr>\n",
       "    <tr>\n",
       "      <th>1</th>\n",
       "      <td>1979</td>\n",
       "      <td>2</td>\n",
       "      <td>4.1</td>\n",
       "    </tr>\n",
       "    <tr>\n",
       "      <th>2</th>\n",
       "      <td>1979</td>\n",
       "      <td>3</td>\n",
       "      <td>5.9</td>\n",
       "    </tr>\n",
       "    <tr>\n",
       "      <th>3</th>\n",
       "      <td>1979</td>\n",
       "      <td>4</td>\n",
       "      <td>11.0</td>\n",
       "    </tr>\n",
       "    <tr>\n",
       "      <th>4</th>\n",
       "      <td>1979</td>\n",
       "      <td>5</td>\n",
       "      <td>14.8</td>\n",
       "    </tr>\n",
       "    <tr>\n",
       "      <th>...</th>\n",
       "      <td>...</td>\n",
       "      <td>...</td>\n",
       "      <td>...</td>\n",
       "    </tr>\n",
       "    <tr>\n",
       "      <th>521</th>\n",
       "      <td>2022</td>\n",
       "      <td>6</td>\n",
       "      <td>22.0</td>\n",
       "    </tr>\n",
       "    <tr>\n",
       "      <th>522</th>\n",
       "      <td>2022</td>\n",
       "      <td>7</td>\n",
       "      <td>25.8</td>\n",
       "    </tr>\n",
       "    <tr>\n",
       "      <th>523</th>\n",
       "      <td>2022</td>\n",
       "      <td>8</td>\n",
       "      <td>26.6</td>\n",
       "    </tr>\n",
       "    <tr>\n",
       "      <th>524</th>\n",
       "      <td>2022</td>\n",
       "      <td>9</td>\n",
       "      <td>23.1</td>\n",
       "    </tr>\n",
       "    <tr>\n",
       "      <th>525</th>\n",
       "      <td>2022</td>\n",
       "      <td>10</td>\n",
       "      <td>15.4</td>\n",
       "    </tr>\n",
       "  </tbody>\n",
       "</table>\n",
       "<p>526 rows × 3 columns</p>\n",
       "</div>"
      ],
      "text/plain": [
       "        年   月  平均気温\n",
       "0    1979   1   2.9\n",
       "1    1979   2   4.1\n",
       "2    1979   3   5.9\n",
       "3    1979   4  11.0\n",
       "4    1979   5  14.8\n",
       "..    ...  ..   ...\n",
       "521  2022   6  22.0\n",
       "522  2022   7  25.8\n",
       "523  2022   8  26.6\n",
       "524  2022   9  23.1\n",
       "525  2022  10  15.4\n",
       "\n",
       "[526 rows x 3 columns]"
      ]
     },
     "execution_count": 10,
     "metadata": {},
     "output_type": "execute_result"
    }
   ],
   "source": [
    "# 解答例\n",
    "import pandas as pd\n",
    "\n",
    "df_temps = pd.read_csv('data/higashi-hiroshima-temps.csv') \n",
    "\n",
    "df_temps"
   ]
  },
  {
   "cell_type": "markdown",
   "metadata": {},
   "source": [
    "上記の出力結果から分かるように，本データは `年`，`月`，`平均気温` の3つの列から構成されており，1979年1月〜2022年10月までの平均気温が行方向に続いている．\n",
    "\n",
    "以降，この `df_temps` を用いて演習課題に解答すること．\n",
    "グラフを描画する際は，タイトルや軸ラベルなど，必要な情報を含めること．"
   ]
  },
  {
   "cell_type": "markdown",
   "metadata": {},
   "source": [
    "### 演習4-1\n",
    "\n",
    "`df_temps` から各年の11月の平均気温だけを抽出し，線グラフを描画せよ．\n",
    "なお，グラフの横軸は年，縦軸は平均気温とする．\n",
    "\n",
    "**出力例**\n",
    "\n",
    "![](./figs/kadai4-1_sample.png)"
   ]
  },
  {
   "cell_type": "code",
   "execution_count": 11,
   "metadata": {},
   "outputs": [
    {
     "data": {
      "image/png": "[encoded data removed]",
      "text/plain": [
       "<Figure size 432x288 with 1 Axes>"
      ]
     },
     "metadata": {
      "needs_background": "light"
     },
     "output_type": "display_data"
    }
   ],
   "source": [
    "# 解答例\n",
    "import matplotlib.pyplot as plt\n",
    "\n",
    "plt.plot(df_temps[df_temps['月'] == 11]['年'], df_temps[df_temps['月'] == 11]['平均気温'])\n",
    "plt.title(f'{11}月の平均気温の推移')\n",
    "plt.xlabel('年')\n",
    "plt.ylabel('平均気温（℃）');"
   ]
  },
  {
   "cell_type": "markdown",
   "metadata": {},
   "source": [
    "### 演習4-2\n",
    "\n",
    "以下の仕様の関数を作成せよ．\n",
    "\n",
    "関数名：       `plot_temps` <br>\n",
    "引数：         `df`, `year`, `month` <br>\n",
    "処理の内容：    引数で渡されたDataFrame `df` に対し，`year` 年以降の `month` 月の平均気温を線グラフで出力する．\n",
    "\n",
    "※グラフの横軸は年，縦軸は平均気温とする．<br>\n",
    "※プログラムには，関数の呼び出し命令文を含めること（引数 `df` には `df_temps` を渡し，`year` と `month` は任意に設定して良い）．\n",
    "\n",
    "**実行例と出力例**\n",
    "\n",
    "```python\n",
    "# 2000年以降の11月の平均気温を出力したい場合\n",
    "plot_temps(df_temps, 2000, 11)\n",
    "```\n",
    "\n",
    "![](./figs/kadai4-2_sample.png)"
   ]
  },
  {
   "cell_type": "code",
   "execution_count": 12,
   "metadata": {},
   "outputs": [
    {
     "data": {
      "image/png": "[encoded data removed]",
      "text/plain": [
       "<Figure size 432x288 with 1 Axes>"
      ]
     },
     "metadata": {
      "needs_background": "light"
     },
     "output_type": "display_data"
    }
   ],
   "source": [
    "# 解答例\n",
    "\n",
    "def plot_temps(df, year, month):\n",
    "    condition = (df['年'] >= year) & (df['月'] == month)\n",
    "    X = df[condition]['年']\n",
    "    Y = df[condition]['平均気温']\n",
    "\n",
    "    plt.plot(X, Y)\n",
    "    plt.title(f'{year}年以降の{month}月の平均気温の推移')\n",
    "    plt.xlabel('年')\n",
    "    plt.ylabel('平均気温（℃）');\n",
    "\n",
    "plot_temps(df_temps, 2000, 11)"
   ]
  },
  {
   "cell_type": "markdown",
   "metadata": {},
   "source": [
    "### 演習4-3\n",
    "\n",
    "以下の仕様の関数を作成せよ．\n",
    "\n",
    "関数名：       `plot_temps_multi` <br>\n",
    "引数：         `df`, `months` <br>\n",
    "処理の内容：    DataFrame `df` に対し，リスト `months` に格納された複数の月の平均気温をそえぞれ線グラフで重ねて出力する．\n",
    "\n",
    "※グラフの横軸は年，縦軸は平均気温とする．各線グラフは色分けし，グラフ中に凡例を示すこと．<br>\n",
    "※プログラムには，関数の呼び出し命令文を含めること（引数 `df` には `df_temps` を渡し，`year` と `month` は任意に設定して良い）．\n",
    "\n",
    "**実行例と出力例**\n",
    "\n",
    "```python\n",
    "# 1月, 4月, 9月, 12月の線グラフを重ねて表示する．\n",
    "plot_temps(df_temps, [1, 4, 9, 12])\n",
    "```\n",
    "\n",
    "![](./figs/kadai4-3_sample.png)"
   ]
  },
  {
   "cell_type": "code",
   "execution_count": 13,
   "metadata": {},
   "outputs": [
    {
     "data": {
      "image/png": "[encoded data removed]",
      "text/plain": [
       "<Figure size 432x288 with 1 Axes>"
      ]
     },
     "metadata": {
      "needs_background": "light"
     },
     "output_type": "display_data"
    }
   ],
   "source": [
    "# 解答例\n",
    "def plot_temps_multi(df, months):\n",
    "    for m in months:\n",
    "        plt.plot(df[df['月'] == m]['年'], df[df['月'] == m]['平均気温'], label=f'{m}月')\n",
    "        \n",
    "    plt.legend()\n",
    "    plt.title('月別平均気温の推移')\n",
    "    plt.xlabel('年')\n",
    "    plt.ylabel('平均気温（℃）');\n",
    "\n",
    "plot_temps_multi(df_temps, [1, 4, 9, 12])\n"
   ]
  },
  {
   "cell_type": "markdown",
   "metadata": {},
   "source": [
    "### 演習4-4\n",
    "\n",
    "`df_temps` の1月〜12月の各月について，全ての年に対する「平均気温」の平均と標準偏差を計算せよ．\n",
    "\n",
    "また，横軸を「月」，縦軸を「平均気温」の平均とする棒グラフを描画せよ．\n",
    "このとき，棒グラフには「平均気温」の標準偏差をエラーバー（誤差範囲）として付与すること．\n",
    "\n",
    "**エラーバー（誤差範囲）の付け方**\n",
    "\n",
    "棒グラフにエラーバーを付ける際には，引数 `yerr` に誤差範囲を定義する値のリスト（例：標準偏差や標準誤差など）を渡せば良い．\n",
    "\n",
    "例えば，変数 `Y_std` に誤差範囲を定義する値のリストが入っている場合は，以下のように書く．\n",
    "\n",
    "```python\n",
    "plt.bar(X, Y, yerr=Y_std)\n",
    "```\n",
    "\n",
    "**出力例**\n",
    "\n",
    "![](./figs/kadai4-4_sample.png)"
   ]
  },
  {
   "cell_type": "code",
   "execution_count": 14,
   "metadata": {},
   "outputs": [
    {
     "data": {
      "image/png": "[encoded data removed]",
      "text/plain": [
       "<Figure size 432x288 with 1 Axes>"
      ]
     },
     "metadata": {
      "needs_background": "light"
     },
     "output_type": "display_data"
    }
   ],
   "source": [
    "# 解答例\n",
    "months = list(range(1, 13))\n",
    "year_mean = []\n",
    "year_sd = []\n",
    "\n",
    "for m in months:\n",
    "    year_mean.append(df_temps[df_temps['月'] == m]['平均気温'].mean())\n",
    "    year_sd.append(df_temps[df_temps['月'] == m]['平均気温'].std())\n",
    "\n",
    "plt.bar(months, year_mean, yerr=year_sd)\n",
    "plt.xticks(list(range(1, 13)))\n",
    "plt.title('各月の平均気温の平均')\n",
    "plt.xlabel('月')\n",
    "plt.ylabel('平均気温（℃）');"
   ]
  }
 ],
 "metadata": {
  "kernelspec": {
   "display_name": "Python 3 (ipykernel)",
   "language": "python",
   "name": "python3"
  },
  "language_info": {
   "codemirror_mode": {
    "name": "ipython",
    "version": 3
   },
   "file_extension": ".py",
   "mimetype": "text/x-python",
   "name": "python",
   "nbconvert_exporter": "python",
   "pygments_lexer": "ipython3",
   "version": "3.9.6"
  },
  "vscode": {
   "interpreter": {
    "hash": "13b92c06b6e5ed457c2ffbe8aafd0597ab041ad1a918995ab3a6bf23080bab16"
   }
  }
 },
 "nbformat": 4,
 "nbformat_minor": 2
}
